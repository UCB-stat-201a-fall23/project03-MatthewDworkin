{
 "cells": [
  {
   "cell_type": "markdown",
   "id": "ec8025e1",
   "metadata": {},
   "source": [
    "# Stat 201A: Problem Set (Nov 20)\n",
    "Matthew Dworkin"
   ]
  },
  {
   "cell_type": "code",
   "execution_count": 104,
   "id": "12fc9ec4",
   "metadata": {},
   "outputs": [],
   "source": [
    "import numpy as np\n",
    "import matplotlib.pyplot as plt\n",
    "def apply_P(P, pi):\n",
    "    return pi.T @ P"
   ]
  },
  {
   "cell_type": "markdown",
   "id": "2b43f4b4",
   "metadata": {},
   "source": [
    "## 1. Simulation of a Markov Process\n",
    "### a)\n",
    "$$P = \\begin{bmatrix}\n",
    "0.2 & 0.7 & 0.1 \\\\\n",
    "0.2 & 0.5 & 0.3 \\\\\n",
    "0.2 & 0.4 & 0.4\n",
    "\\end{bmatrix}$$\n",
    "\n",
    "### b) Simulate one Realization"
   ]
  },
  {
   "cell_type": "code",
   "execution_count": 228,
   "id": "ccaf7c51",
   "metadata": {},
   "outputs": [],
   "source": [
    "P = np.array([[0.2, 0.7, 0.1], [0.2, 0.5, 0.3], [0.2, 0.4, 0.4]])\n",
    "\n",
    "def get_distribution(state):\n",
    "    \"\"\"\n",
    "    Given a state, returns a probability distribution over the states accordingly (all ones and zeros).\n",
    "    \"\"\"\n",
    "    \n",
    "    state -= 1 #1 indexed for the user, not zero\n",
    "    dist = np.zeros((3, 1))\n",
    "    dist[state] = 1\n",
    "    return dist\n",
    "\n",
    "def get_state(distribution):\n",
    "    \"\"\"\n",
    "    Realizes the state from a given distribution.\n",
    "    \n",
    "    \"\"\"\n",
    "    return np.random.choice([1, 2, 3], 1, p=np.squeeze(distribution))[0]"
   ]
  },
  {
   "cell_type": "code",
   "execution_count": 218,
   "id": "11fff435",
   "metadata": {},
   "outputs": [
    {
     "data": {
      "text/plain": [
       "(3, 1)"
      ]
     },
     "execution_count": 218,
     "metadata": {},
     "output_type": "execute_result"
    }
   ],
   "source": [
    "curr_dist = get_distribution(1)\n",
    "curr_dist.shape"
   ]
  },
  {
   "cell_type": "code",
   "execution_count": 229,
   "id": "a9bd26ce",
   "metadata": {},
   "outputs": [],
   "source": [
    "np.random.seed(201)\n",
    "states = []\n",
    "num_steps = 100\n",
    "\n",
    "curr_dist = get_distribution(1)\n",
    "for i in range(num_steps):\n",
    "    states.append(get_state(curr_dist))\n",
    "    curr_dist = apply_P(P, curr_dist).T"
   ]
  },
  {
   "cell_type": "code",
   "execution_count": 230,
   "id": "80303224",
   "metadata": {},
   "outputs": [
    {
     "data": {
      "text/plain": [
       "array([1, 2, 2, 3, 3, 1, 2, 1, 2, 2, 2, 1, 2, 2, 1, 3, 3, 3, 2, 3, 2, 2,\n",
       "       3, 2, 1, 2, 3, 2, 2, 2, 2, 3, 1, 1, 1, 2, 3, 2, 1, 2, 2, 3, 1, 3,\n",
       "       2, 2, 3, 2, 2, 3, 1, 2, 3, 3, 1, 3, 2, 2, 2, 3, 3, 3, 2, 3, 2, 2,\n",
       "       2, 3, 2, 2, 1, 3, 3, 2, 1, 2, 1, 2, 1, 1, 2, 3, 1, 2, 2, 1, 3, 3,\n",
       "       3, 1, 3, 2, 3, 2, 2, 2, 3, 1, 3, 2])"
      ]
     },
     "execution_count": 230,
     "metadata": {},
     "output_type": "execute_result"
    }
   ],
   "source": [
    "np.array(states)"
   ]
  },
  {
   "cell_type": "markdown",
   "id": "8818f01b",
   "metadata": {},
   "source": [
    "These are the (first 100) states we visit in this realization of the Markov process, starting from state 1!"
   ]
  },
  {
   "cell_type": "markdown",
   "id": "e0c6c3d6",
   "metadata": {},
   "source": [
    "\n",
    "## 2. Stationary Distribution\n",
    "### a) Theoretical Stationary Distribution"
   ]
  },
  {
   "cell_type": "markdown",
   "id": "52183182",
   "metadata": {},
   "source": [
    "We solve for the eigenvalues of $P^T$ and normalize the eigenvector corresponding to the eigenvalue of 1."
   ]
  },
  {
   "cell_type": "code",
   "execution_count": 231,
   "id": "a62235dc",
   "metadata": {},
   "outputs": [
    {
     "data": {
      "text/plain": [
       "array([0.2       , 0.51111111, 0.28888889])"
      ]
     },
     "execution_count": 231,
     "metadata": {},
     "output_type": "execute_result"
    }
   ],
   "source": [
    "pi_inf = np.linalg.eig(P.T)[1][:, 0] / np.sum(np.linalg.eig(P.T)[1][:, 0])\n",
    "pi_inf"
   ]
  },
  {
   "cell_type": "markdown",
   "id": "65779dd4",
   "metadata": {},
   "source": [
    "We observe that this matches what we get if we start at $\\pi_{\\infty}$ and apply $P$ to it."
   ]
  },
  {
   "cell_type": "code",
   "execution_count": 232,
   "id": "055c5271",
   "metadata": {},
   "outputs": [
    {
     "data": {
      "text/plain": [
       "(array([0.2       , 0.51111111, 0.28888889]),\n",
       " array([0.2       , 0.51111111, 0.28888889]))"
      ]
     },
     "execution_count": 232,
     "metadata": {},
     "output_type": "execute_result"
    }
   ],
   "source": [
    "apply_P(P, pi_inf), pi_inf"
   ]
  },
  {
   "cell_type": "markdown",
   "id": "7585afce",
   "metadata": {},
   "source": [
    "### b) Empirical Stationary Distribution\n",
    "We start from some arbitrary distribution $\\pi_0$"
   ]
  },
  {
   "cell_type": "code",
   "execution_count": 233,
   "id": "8ea0d431",
   "metadata": {},
   "outputs": [
    {
     "data": {
      "text/plain": [
       "array([0.07733646, 0.50777978, 0.41488376])"
      ]
     },
     "execution_count": 233,
     "metadata": {},
     "output_type": "execute_result"
    }
   ],
   "source": [
    "np.random.seed(201)\n",
    "pi_0 = np.random.uniform(low=0, high=1, size=3)\n",
    "pi_0 /= np.sum(pi_0)\n",
    "pi_0"
   ]
  },
  {
   "cell_type": "code",
   "execution_count": 234,
   "id": "63eb10ea",
   "metadata": {},
   "outputs": [],
   "source": [
    "num_transitions = 50\n",
    "\n",
    "results = np.zeros((num_transitions, 3))\n",
    "pi_curr = pi_0\n",
    "for i in range(num_transitions):\n",
    "    pi_curr = apply_P(P, pi_curr)\n",
    "    results[i] = pi_curr"
   ]
  },
  {
   "cell_type": "code",
   "execution_count": 235,
   "id": "c409313b",
   "metadata": {},
   "outputs": [
    {
     "data": {
      "text/plain": [
       "array([2.75759992e-03, 2.75759992e-05, 2.75759992e-07, 2.75759992e-09,\n",
       "       2.75759992e-11, 2.75759992e-13, 2.75759993e-15, 2.75759995e-17,\n",
       "       2.75760016e-19, 2.75759851e-21, 2.75764798e-23, 2.75789554e-25,\n",
       "       2.76245299e-27, 2.81008586e-29, 3.67467433e-31, 3.46667390e-32,\n",
       "       3.69778549e-32, 1.92592994e-32, 1.54074396e-32, 1.54074396e-32,\n",
       "       1.54074396e-32, 1.54074396e-32, 1.54074396e-32, 1.54074396e-32,\n",
       "       1.54074396e-32, 1.54074396e-32, 1.54074396e-32, 1.54074396e-32,\n",
       "       1.54074396e-32, 1.54074396e-32, 1.54074396e-32, 1.54074396e-32,\n",
       "       1.54074396e-32, 1.54074396e-32, 1.54074396e-32, 1.54074396e-32,\n",
       "       1.54074396e-32, 1.54074396e-32, 1.54074396e-32, 1.54074396e-32,\n",
       "       1.54074396e-32, 1.54074396e-32, 1.54074396e-32, 1.54074396e-32,\n",
       "       1.54074396e-32, 1.54074396e-32, 1.54074396e-32, 1.54074396e-32,\n",
       "       1.54074396e-32, 1.54074396e-32])"
      ]
     },
     "execution_count": 235,
     "metadata": {},
     "output_type": "execute_result"
    }
   ],
   "source": [
    "norms = np.power(np.linalg.norm(results - pi_inf, axis=1), 2)\n",
    "norms"
   ]
  },
  {
   "cell_type": "code",
   "execution_count": 236,
   "id": "b1f85699",
   "metadata": {},
   "outputs": [
    {
     "data": {
      "image/png": "[encoded data removed]",
      "text/plain": [
       "<Figure size 640x480 with 1 Axes>"
      ]
     },
     "metadata": {},
     "output_type": "display_data"
    }
   ],
   "source": [
    "plt.plot(np.arange(num_transitions), np.log(norms));\n",
    "plt.title(\"Log Norm of Difference Between $\\pi_{\\infty}$ and $\\pi_i$\");\n",
    "plt.ylabel(\"Log Norm\");\n",
    "plt.xlabel(\"Iterations\");"
   ]
  },
  {
   "cell_type": "markdown",
   "id": "c4f91884",
   "metadata": {},
   "source": [
    "We repeat for a new distribution."
   ]
  },
  {
   "cell_type": "code",
   "execution_count": 237,
   "id": "a76e5eec",
   "metadata": {},
   "outputs": [],
   "source": [
    "pi_0_new = np.array([0.8, 0.05, 0.15])"
   ]
  },
  {
   "cell_type": "code",
   "execution_count": 238,
   "id": "5dfa864f",
   "metadata": {},
   "outputs": [],
   "source": [
    "num_transitions = 50\n",
    "\n",
    "results_new = np.zeros((num_transitions, 3))\n",
    "pi_curr_new = pi_0_new\n",
    "for i in range(num_transitions):\n",
    "    pi_curr_new = apply_P(P, pi_curr_new)\n",
    "    results_new[i] = pi_curr_new"
   ]
  },
  {
   "cell_type": "code",
   "execution_count": 239,
   "id": "dcb7765d",
   "metadata": {},
   "outputs": [
    {
     "data": {
      "text/plain": [
       "array([3.58524691e-02, 3.58524691e-04, 3.58524691e-06, 3.58524691e-08,\n",
       "       3.58524691e-10, 3.58524691e-12, 3.58524691e-14, 3.58524690e-16,\n",
       "       3.58524676e-18, 3.58524602e-20, 3.58525345e-22, 3.58516428e-24,\n",
       "       3.58397659e-26, 3.57970288e-28, 3.41737009e-30, 2.77333912e-32,\n",
       "       1.54074396e-32, 1.54074396e-32, 1.54074396e-32, 1.54074396e-32,\n",
       "       1.54074396e-32, 1.54074396e-32, 1.54074396e-32, 1.54074396e-32,\n",
       "       1.54074396e-32, 1.54074396e-32, 1.54074396e-32, 1.54074396e-32,\n",
       "       1.54074396e-32, 1.54074396e-32, 1.54074396e-32, 1.54074396e-32,\n",
       "       1.54074396e-32, 1.54074396e-32, 1.54074396e-32, 1.54074396e-32,\n",
       "       1.54074396e-32, 1.54074396e-32, 1.54074396e-32, 1.54074396e-32,\n",
       "       1.54074396e-32, 1.54074396e-32, 1.54074396e-32, 1.54074396e-32,\n",
       "       1.54074396e-32, 1.54074396e-32, 1.54074396e-32, 1.54074396e-32,\n",
       "       1.54074396e-32, 1.54074396e-32])"
      ]
     },
     "execution_count": 239,
     "metadata": {},
     "output_type": "execute_result"
    }
   ],
   "source": [
    "norms_new = np.power(np.linalg.norm(results_new - pi_inf, axis=1), 2)\n",
    "norms_new"
   ]
  },
  {
   "cell_type": "code",
   "execution_count": 240,
   "id": "91473a7d",
   "metadata": {},
   "outputs": [
    {
     "data": {
      "image/png": "[encoded data removed]",
      "text/plain": [
       "<Figure size 640x480 with 1 Axes>"
      ]
     },
     "metadata": {},
     "output_type": "display_data"
    }
   ],
   "source": [
    "plt.plot(np.arange(num_transitions), np.log(norms_new));\n",
    "plt.title(\"Log Norm of Difference Between $\\pi_{\\infty}$ and $\\pi_i$\");\n",
    "plt.ylabel(\"Log Norm\");\n",
    "plt.xlabel(\"Iterations\");"
   ]
  },
  {
   "cell_type": "markdown",
   "id": "6b7988fe",
   "metadata": {},
   "source": [
    "Both converge rather quickly, and the plots look nearly identical!\n",
    "\n",
    "## 3. Absorbing State\n",
    "We modify $P$ such that state 3 is now an absorbing state.\n",
    "\n",
    "$$P_{\\text{new}} = \\begin{bmatrix}\n",
    "0.2 & 0.7 & 0.1 \\\\\n",
    "0.2 & 0.5 & 0.3 \\\\\n",
    "0.0 & 0.0 & 1.0\n",
    "\\end{bmatrix}$$"
   ]
  },
  {
   "cell_type": "code",
   "execution_count": 241,
   "id": "526af3e8",
   "metadata": {},
   "outputs": [
    {
     "data": {
      "text/plain": [
       "array([[0.2, 0.7, 0.1],\n",
       "       [0.2, 0.5, 0.3],\n",
       "       [0. , 0. , 1. ]])"
      ]
     },
     "execution_count": 241,
     "metadata": {},
     "output_type": "execute_result"
    }
   ],
   "source": [
    "P_new = np.array([[0.2, 0.7, 0.1], [0.2, 0.5, 0.3], [0, 0, 1.0]])\n",
    "P_new"
   ]
  },
  {
   "cell_type": "markdown",
   "id": "4001dea7",
   "metadata": {},
   "source": [
    "### a) Empirical Arrival Times\n",
    "We first try starting from $X_0 = 1$"
   ]
  },
  {
   "cell_type": "code",
   "execution_count": 287,
   "id": "08285db2",
   "metadata": {},
   "outputs": [
    {
     "data": {
      "text/plain": [
       "14"
      ]
     },
     "execution_count": 287,
     "metadata": {},
     "output_type": "execute_result"
    }
   ],
   "source": [
    "np.random.seed(420)\n",
    "\n",
    "def one_simulation(initial_state):\n",
    "\n",
    "    X_0 = get_distribution(initial_state)\n",
    "    curr_dist = X_0\n",
    "    curr_state = get_state(curr_dist)\n",
    "    arrival_time = 0\n",
    "\n",
    "    states_visited = [curr_state]\n",
    "\n",
    "\n",
    "    while curr_state != 3:\n",
    "        # Get new distribution by applying P_new\n",
    "        curr_dist = apply_P(P_new, curr_dist)\n",
    "\n",
    "        # Realize the state\n",
    "        curr_state = get_state(curr_dist)\n",
    "\n",
    "        # Track which state we went to\n",
    "        states_visited.append(curr_state)\n",
    "\n",
    "        # Get new distribution (binary)\n",
    "        curr_dist = get_distribution(curr_state)\n",
    "\n",
    "\n",
    "        # Increment arrival time\n",
    "        arrival_time += 1\n",
    "\n",
    "    states_visited.append(3)\n",
    "    \n",
    "    return arrival_time, states_visited\n",
    "one_simulation(1)[0]"
   ]
  },
  {
   "cell_type": "code",
   "execution_count": 300,
   "id": "4b721b2a",
   "metadata": {},
   "outputs": [],
   "source": [
    "num_trials = 10000\n",
    "waiting_times_1 = []\n",
    "waiting_times_2 = []\n",
    "for i in range(num_trials):\n",
    "    waiting_times_1.append(one_simulation(1)[0])\n",
    "    waiting_times_2.append(one_simulation(2)[0])"
   ]
  },
  {
   "cell_type": "code",
   "execution_count": 328,
   "id": "6dc8290e",
   "metadata": {},
   "outputs": [
    {
     "name": "stdout",
     "output_type": "stream",
     "text": [
      "Mean Arrival Time from State 1:  4.6163\n"
     ]
    },
    {
     "data": {
      "image/png": "[encoded data removed]",
      "text/plain": [
       "<Figure size 640x480 with 1 Axes>"
      ]
     },
     "metadata": {},
     "output_type": "display_data"
    }
   ],
   "source": [
    "plt.hist(waiting_times_1, bins=np.arange(0, 36, 2));\n",
    "plt.bar(np.mean(waiting_times_1), height= 4000, color=\"orange\", width=1/5);\n",
    "plt.title(\"Arrival Times from State 1\");\n",
    "plt.xlabel(\"Arrival Times\");\n",
    "plt.ylabel(\"Number of Trials\")\n",
    "print(\"Mean Arrival Time from State 1: \", np.mean(waiting_times_1))"
   ]
  },
  {
   "cell_type": "code",
   "execution_count": 329,
   "id": "0d7fb6a6",
   "metadata": {},
   "outputs": [
    {
     "name": "stdout",
     "output_type": "stream",
     "text": [
      "Mean Arrival Time from State 2:  3.8556\n"
     ]
    },
    {
     "data": {
      "image/png": "[encoded data removed]",
      "text/plain": [
       "<Figure size 640x480 with 1 Axes>"
      ]
     },
     "metadata": {},
     "output_type": "display_data"
    }
   ],
   "source": [
    "plt.hist(waiting_times_2, bins=np.arange(0, 36, 2));\n",
    "plt.bar(np.mean(waiting_times_2), height= 3200, color=\"orange\", width=1/5);\n",
    "plt.title(\"Arrival Times from State 2\");\n",
    "plt.xlabel(\"Arrival Times\");\n",
    "plt.ylabel(\"Number of Trials\")\n",
    "print(\"Mean Arrival Time from State 2: \", np.mean(waiting_times_2))"
   ]
  },
  {
   "cell_type": "markdown",
   "id": "ff7e786c",
   "metadata": {},
   "source": [
    "It makes sense that the mean is lower if we start in state 2, which we can tell by looking at the transition probabilities!\n",
    "\n",
    "They also match closely with the theoretical values of 4.615 and 3.846 found in my written work."
   ]
  }
 ],
 "metadata": {
  "kernelspec": {
   "display_name": "Python 3 (ipykernel)",
   "language": "python",
   "name": "python3"
  },
  "language_info": {
   "codemirror_mode": {
    "name": "ipython",
    "version": 3
   },
   "file_extension": ".py",
   "mimetype": "text/x-python",
   "name": "python",
   "nbconvert_exporter": "python",
   "pygments_lexer": "ipython3",
   "version": "3.10.9"
  }
 },
 "nbformat": 4,
 "nbformat_minor": 5
}
